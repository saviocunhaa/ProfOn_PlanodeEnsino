{
 "cells": [
  {
   "cell_type": "code",
   "execution_count": null,
   "id": "27d41d84",
   "metadata": {
    "collapsed": true
   },
   "outputs": [],
   "source": [
    "# AUTOMAÇÃO SISTEMA PROFESSOR ONLINE - BY PROFESSOR SAVIO CUNHA (@SAVIOCUNHAA)\n",
    "\n",
    "# 1º PASSO - INSTALAR PYTHON - EU UTILIZO O jupyter notebook (anaconda3) - https://youtu.be/_eK0z5QbpKA\n",
    "# instalar biblotecas necessarias\n",
    "# dica execulte os blocos de forma individual \n",
    "\n",
    "!pip install selenium\n",
    "\n",
    "!pip install pandas\n",
    "\n",
    "!pip install openpyxl\n",
    "\n",
    "!pip install pyautogui "
   ]
  },
  {
   "cell_type": "code",
   "execution_count": null,
   "id": "4ab5892b",
   "metadata": {},
   "outputs": [],
   "source": [
    "# AUTOMAÇÃO SISTEMA PROFESSOR ONLINE\n",
    "#ENTRAR NO PROFESSOR ONLINE COM SEU USUARIO E SENHA\n",
    "\n",
    "from Jupyter Notebook import webdriver\n",
    "from selenium.webdriver.common.keys import Keys\n",
    "from selenium.webdriver.common.by import By\n",
    "import time\n",
    "import pyautogui\n",
    "\n",
    "\n",
    "navegador = webdriver.Chrome()\n",
    "#entrar no site do sice\n",
    "navegador.get(\"https://professor.seduc.ce.gov.br/\")\n",
    "\n",
    "time.sleep(5)\n",
    "pyautogui.hotkey('win', 'up') #MAXIMIZAR A TELA\n",
    "time.sleep(5)\n",
    "usuarioProf = \"SEU USUARIO AQUI\" #ADICIONE SEU USUARIO\n",
    "senhaProf = \"SUA SENHA AQUI\" #ADICIONE SUA SENHA\n",
    "\n",
    "#entrar na Conta \n",
    "navegador.find_element(By.XPATH, '//*[@id=\"top\"]/div/div/div[2]/div/div/div/a').click()\n",
    "navegador.find_element(By.XPATH, '//*[@id=\"username\"]').send_keys(f\"{usuarioProf}\")\n",
    "navegador.find_element(By.XPATH, '//*[@id=\"password\"]').send_keys(f\"{senhaProf}\")\n",
    "navegador.find_element(By.XPATH, '//*[@id=\"formLogin\"]/div[3]/div/button').click()"
   ]
  },
  {
   "cell_type": "code",
   "execution_count": null,
   "id": "04af591b",
   "metadata": {
    "collapsed": true
   },
   "outputs": [],
   "source": [
    "\n",
    "#CADASTRO PLANO DE ENSINO\n",
    "\n",
    "# 1 - TEM UMA TABELA CHAMADA CONTEUDOS.XLSX, ELÁ SERÁ A BASE PRA INSERIR OS DADOS NO SISTEMA, ALTERE ELA CONFORME SUA NECESSIDADE.\n",
    "# 2 - MANTENHA SEMPRE ESSA TABELA NA MESMA PASTA DO DOCUMENTO. \n",
    "# 3 - ALTERE APENAS O CONTEUDO DA TABELA. NÃO ALTERE O TITILOS (INDICE, CONTEUDO, SUBONTEUDO), DEIXEI O MODELO PARA VERIFICAR. \n",
    "# 4 - QUANDO EXECULTAR ESSE BLOCO A TABELA IRÁ APARECER AQUI. \n",
    "\n",
    "import pandas as pd\n",
    "\n",
    "conteudodf = pd.read_excel(\"CONTEUDOS.xlsx\")\n",
    "\n",
    "display(conteudodf) "
   ]
  },
  {
   "cell_type": "code",
   "execution_count": null,
   "id": "ae3e32e9",
   "metadata": {
    "collapsed": true
   },
   "outputs": [],
   "source": [
    "\n",
    "#BLOCO DE CADASTRO PLANO DE ENSINO \n",
    "# ESSE BLOCO ELE APENAS ENTRA NA TURMA E DICIPLINA PARA INICIAR OS PASSO DE INSERIR OS DADOS. \n",
    "\n",
    "\n",
    "\n",
    "\n",
    "\n",
    "#VARIAVEIS UTILIZADAS VAI DEPENDER DO SEU CONTEUDO. UTILIZE ESSE VIDEO PARA ALTERAR OS XPHATH DE REFERENCIAS PARA SEU USO. \n",
    "# COMO COPIAR E SABER O XPATH AQUI -> https://youtu.be/poZ4COfSzfA\n",
    "\n",
    "turmads = '//*[@id=\"form-busca\"]/div[1]/div[2]/div/div/div/ul/li[2]/a/span[1]'\n",
    "turmaInf = '//*[@id=\"form-busca\"]/div[1]/div[2]/div/div/div/ul/li[3]/a/span[1]'\n",
    "\n",
    "discArq = '//*[@id=\"form-busca\"]/div[1]/div[3]/div/div/div/ul/li[2]/a/span[1]'\n",
    "discPlan = '//*[@id=\"form-busca\"]/div[1]/div[3]/div/div/div/ul/li[3]/a/span[1]'\n",
    "\n",
    "periodo = '//*[@id=\"form-cadastro\"]/div[1]/div[1]/div/div/ul/li[5]/a' #li[1,2,3,4] - REFERENTE AO PERIODO MUDA O XPATH\n",
    "\n",
    "\n",
    "#ENTRAR NOS DADOS DA DICIPLINAS PARA INICIAR O CADASTRO DE PLANO DE ENSINO\n",
    "\n",
    "time.sleep(3)\n",
    "navegador.find_element(By.XPATH, '//*[@id=\"navbar\"]/ul/li[5]/a/div/div[2]').click()\n",
    "navegador.find_element(By.XPATH, '//*[@id=\"collapseSubMenuDiario\"]/li[1]/a/div/div[2]').click()\n",
    "time.sleep(3)\n",
    "\n",
    "navegador.find_element(By.XPATH, '//*[@id=\"form-busca\"]/div[1]/div[2]/div/div/button/span[1]').click()\n",
    "time.sleep(2)\n",
    "navegador.find_element(By.XPATH, turmaInf).click()\n",
    "time.sleep(2)\n",
    "navegador.find_element(By.XPATH, '//*[@id=\"form-busca\"]/div[1]/div[3]/div/div/button').click()\n",
    "time.sleep(2)\n",
    "navegador.find_element(By.XPATH, discPlan).click()\n",
    "time.sleep(2)\n",
    "navegador.find_element(By.XPATH, '//*[@id=\"btn-buscar\"]').click()\n",
    "time.sleep(2)\n",
    "navegador.find_element(By.XPATH, '//*[@id=\"btn-add\"]').click()\n",
    "time.sleep(2)\n",
    "\n"
   ]
  },
  {
   "cell_type": "code",
   "execution_count": null,
   "id": "6ac6f8e7",
   "metadata": {
    "collapsed": true
   },
   "outputs": [],
   "source": [
    "# ESSE BLOCO ELE UTILIZA TODOS OS DADOS DA TEBELA PORA INICIAR O PROCESSO DE AUTOMAÇÃO. \n",
    "# SE QUISER PODE EXECULTAR ESSE IDEPENDENTE DO ANTERIOR, POREM VOCÊ TEM QUE ESTÁ NA TURMA E DICIPLINA JA SELECIONADA E \n",
    "# CLICAR NO BOTÃO ADICIONAR  E ESTEJA NA TELA COM TITULO ' Item do plano de ensino', SO ASSIM VC PODE EXECULTAR ESSE BLOCO. \n",
    "\n",
    "# COMO COPIAR E SABER O XPATH AQUI -> https://youtu.be/poZ4COfSzfA -> COLOQUE ENTRE ASPAS ''\n",
    "periodo = '//*[@id=\"form-cadastro\"]/div[1]/div[1]/div/div/ul/li[5]/a' #li[1,2,3,4,5] - REFERENTE AO PERIODO MUDA O XPATH \n",
    "\n",
    "time.sleep(2)\n",
    "for i in conteudodf['indice']:\n",
    "    navegador.find_element(By.XPATH, '//*[@id=\"form-cadastro\"]/div[1]/div[1]/div/button/span[1]').click()\n",
    "    time.sleep(2)\n",
    "    navegador.find_element(By.XPATH, periodo).click()\n",
    "    time.sleep(2)\n",
    "    navegador.find_element(By.XPATH, '//*[@id=\"conteudo\"]').send_keys(conteudodf.Conteudo[i])\n",
    "    time.sleep(2)\n",
    "    navegador.find_element(By.XPATH, '//*[@id=\"subconteudo\"]').send_keys(conteudodf.Subconteudo[i])\n",
    "    time.sleep(2)\n",
    "    navegador.find_element(By.XPATH, '//*[@id=\"btn-save\"]').click()\n",
    "    time.sleep(4)\n",
    "    navegador.find_element(By.XPATH, '//*[@id=\"btn-add\"]').click()\n",
    "    time.sleep(3)"
   ]
  }
 ],
 "metadata": {
  "kernelspec": {
   "display_name": "Python 3 (ipykernel)",
   "language": "python",
   "name": "python3"
  },
  "language_info": {
   "codemirror_mode": {
    "name": "ipython",
    "version": 3
   },
   "file_extension": ".py",
   "mimetype": "text/x-python",
   "name": "python",
   "nbconvert_exporter": "python",
   "pygments_lexer": "ipython3",
   "version": "3.9.12"
  }
 },
 "nbformat": 4,
 "nbformat_minor": 5
}
